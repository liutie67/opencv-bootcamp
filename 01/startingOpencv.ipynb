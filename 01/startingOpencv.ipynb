{
 "cells": [
  {
   "cell_type": "code",
   "id": "fbd5d18884e5fa9e",
   "metadata": {
    "ExecuteTime": {
     "end_time": "2025-07-31T02:49:35.885678Z",
     "start_time": "2025-07-31T02:49:32.928505Z"
    }
   },
   "source": [
    "# import libraries\n",
    "import cv2\n",
    "import numpy as np\n",
    "import matplotlib.pyplot as plt\n",
    "%matplotlib inline\n",
    "from IPython.display import Image"
   ],
   "outputs": [],
   "execution_count": 1
  },
  {
   "cell_type": "code",
   "execution_count": null,
   "id": "5ac33765-f61d-484c-af4e-14f6652d9c5d",
   "metadata": {},
   "outputs": [],
   "source": []
  }
 ],
 "metadata": {
  "kernelspec": {
   "display_name": "Python 3 (ipykernel)",
   "language": "python",
   "name": "python3"
  },
  "language_info": {
   "codemirror_mode": {
    "name": "ipython",
    "version": 3
   },
   "file_extension": ".py",
   "mimetype": "text/x-python",
   "name": "python",
   "nbconvert_exporter": "python",
   "pygments_lexer": "ipython3",
   "version": "3.13.5"
  }
 },
 "nbformat": 4,
 "nbformat_minor": 5
}
